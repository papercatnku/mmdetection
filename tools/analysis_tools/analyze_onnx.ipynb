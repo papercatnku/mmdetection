{
 "cells": [
  {
   "cell_type": "code",
   "execution_count": null,
   "metadata": {},
   "outputs": [],
   "source": [
    "import onnx\n",
    "import onnx_tool\n",
    "# modelpath = '/media/112new_sde/ModelZoo/apa/detseg_v4/model.onnx'\n",
    "modelpath = '/media/112new_sde/ModelZoo/apa/apa_detseg_0614/model.onnx'\n",
    "onnx_tool.model_profile(modelpath) # pass file name\n",
    "onnx_tool.model_profile(modelpath, savenode='node_table.txt') # save profile table to txt file\n",
    "onnx_tool.model_profile(modelpath, savenode='node_table.csv') # save profile table to csv file"
   ]
  },
  {
   "cell_type": "code",
   "execution_count": null,
   "metadata": {},
   "outputs": [],
   "source": []
  }
 ],
 "metadata": {
  "kernelspec": {
   "display_name": "openmmlab_3.9",
   "language": "python",
   "name": "python3"
  },
  "language_info": {
   "codemirror_mode": {
    "name": "ipython",
    "version": 3
   },
   "file_extension": ".py",
   "mimetype": "text/x-python",
   "name": "python",
   "nbconvert_exporter": "python",
   "pygments_lexer": "ipython3",
   "version": "3.9.16"
  },
  "orig_nbformat": 4
 },
 "nbformat": 4,
 "nbformat_minor": 2
}
